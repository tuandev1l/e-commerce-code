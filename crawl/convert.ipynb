{
 "cells": [
  {
   "cell_type": "code",
   "execution_count": 1,
   "metadata": {},
   "outputs": [],
   "source": [
    "import json"
   ]
  },
  {
   "cell_type": "code",
   "execution_count": 2,
   "metadata": {},
   "outputs": [],
   "source": [
    "f = open('data.json', 'r')\n",
    "data = json.loads(f.read())"
   ]
  },
  {
   "cell_type": "code",
   "execution_count": 13,
   "metadata": {},
   "outputs": [],
   "source": [
    "products = []\n",
    "\n",
    "for product in data:\n",
    "  format_product = {}\n",
    "  try:\n",
    "    format_product['id'] = product['id']\n",
    "    format_product['name'] = product['name']\n",
    "    format_product['shortDescription'] = product['short_description']\n",
    "    format_product['price'] = product['price']\n",
    "    format_product['listPrice'] = product['list_price']\n",
    "    format_product['originalPrice'] = product['original_price']\n",
    "    format_product['badges'] = product['badges_v3']\n",
    "    format_product['discount'] = product['discount']\n",
    "    format_product['discountRate'] = product['discount_rate']\n",
    "    format_product['ratingAverage'] = product['rating_average']\n",
    "    format_product['reviewCount'] = product['review_count']\n",
    "    format_product['reviewText'] = product['review_text']\n",
    "    format_product['favouriteCount'] = product['favourite_count']\n",
    "    format_product['thumbnailUrl'] = product['thumbnail_url']\n",
    "    format_product['inventoryStatus'] = product['inventory_status']\n",
    "    format_product['seller'] = product['seller']\n",
    "    format_product['dayAgoCreated'] = product['day_ago_created']\n",
    "    format_product['allTimeQuantitySold'] = product.get(\n",
    "        'all_time_quantity_sold') or 0\n",
    "    format_product['metaTitle'] = product['meta_title']\n",
    "    format_product['metaDescription'] = product['meta_description']\n",
    "    format_product['metaKeywords'] = product['meta_keywords']\n",
    "    format_product['description'] = product['description']\n",
    "    format_product['images'] = product['images']\n",
    "    format_product['brand'] = product['brand']\n",
    "    products.append(format_product)\n",
    "  except Exception as e:\n",
    "    print(e)\n",
    "    print(product)\n",
    "  products.append(product)"
   ]
  },
  {
   "cell_type": "code",
   "execution_count": 14,
   "metadata": {},
   "outputs": [],
   "source": [
    "f = open('format_data.json', 'w+')\n",
    "[f.write(f'{json.dumps(x)},') for x in products]\n",
    "f.close()"
   ]
  }
 ],
 "metadata": {
  "kernelspec": {
   "display_name": "base",
   "language": "python",
   "name": "python3"
  },
  "language_info": {
   "codemirror_mode": {
    "name": "ipython",
    "version": 3
   },
   "file_extension": ".py",
   "mimetype": "text/x-python",
   "name": "python",
   "nbconvert_exporter": "python",
   "pygments_lexer": "ipython3",
   "version": "3.11.5"
  }
 },
 "nbformat": 4,
 "nbformat_minor": 2
}
