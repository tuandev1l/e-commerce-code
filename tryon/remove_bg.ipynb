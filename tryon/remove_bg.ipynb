{
 "cells": [
  {
   "cell_type": "code",
   "execution_count": 1,
   "metadata": {},
   "outputs": [],
   "source": [
    "from rembg import remove, new_session\n",
    "from PIL import Image\n",
    "import cv2\n",
    "import uuid\n",
    "import os"
   ]
  },
  {
   "cell_type": "code",
   "execution_count": 2,
   "metadata": {},
   "outputs": [],
   "source": [
    "my_session = new_session(\"u2net_cloth_seg\")"
   ]
  },
  {
   "cell_type": "code",
   "execution_count": 7,
   "metadata": {},
   "outputs": [
    {
     "name": "stdout",
     "output_type": "stream",
     "text": [
      "(750, 750)\n"
     ]
    }
   ],
   "source": [
    "input_path = 'test.jpg'\n",
    "output_name = uuid.uuid4()\n",
    "output_path = f'{output_name}.png'\n",
    "input = Image.open(input_path)\n",
    "output = remove(input, session=my_session)\n",
    "output.save(output_path)\n",
    "\n",
    "img = cv2.imread(output_path)\n",
    "img_shape = img.shape\n",
    "\n",
    "img2_shape = input.size\n",
    "print(img2_shape)\n",
    "\n",
    "crop = img[img2_shape[1]*2:img_shape[0], 0:img_shape[0]]\n",
    "cv2.imwrite(f'out_{output_name}.png', crop)\n",
    "os.remove(output_path)"
   ]
  }
 ],
 "metadata": {
  "kernelspec": {
   "display_name": "Python 3",
   "language": "python",
   "name": "python3"
  },
  "language_info": {
   "codemirror_mode": {
    "name": "ipython",
    "version": 3
   },
   "file_extension": ".py",
   "mimetype": "text/x-python",
   "name": "python",
   "nbconvert_exporter": "python",
   "pygments_lexer": "ipython3",
   "version": "3.12.7"
  }
 },
 "nbformat": 4,
 "nbformat_minor": 2
}
