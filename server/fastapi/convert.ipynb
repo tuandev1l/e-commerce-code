{
 "cells": [
  {
   "cell_type": "code",
   "execution_count": 1,
   "metadata": {},
   "outputs": [],
   "source": [
    "import requests\n",
    "import json"
   ]
  },
  {
   "cell_type": "code",
   "execution_count": 2,
   "metadata": {},
   "outputs": [],
   "source": [
    "with open('./data.json') as f:\n",
    "  datas = json.loads(f.read())"
   ]
  },
  {
   "cell_type": "code",
   "execution_count": 3,
   "metadata": {},
   "outputs": [],
   "source": [
    "embedding_products = []"
   ]
  },
  {
   "cell_type": "code",
   "execution_count": 4,
   "metadata": {},
   "outputs": [],
   "source": [
    "for product in datas:\n",
    "  desc_payload = {\"data\": f'{product['name']} {\n",
    "      product['shortDescription']} {product['description']}'}\n",
    "\n",
    "  img_payload = {\"data\": product['thumbnailUrl']}\n",
    "  description_vector = requests.post(\n",
    "      'http://localhost:8000/convert/text', headers={\n",
    "          \"Content-Type\": \"application/json\"\n",
    "      }, data=json.dumps(desc_payload)).json()['data']\n",
    "  img_vector = requests.post(\n",
    "      'http://localhost:8000/convert/img', headers={\n",
    "          \"Content-Type\": \"application/json\"\n",
    "      }, data=json.dumps(img_payload)).json()['data']\n",
    "  product[\"descriptionVector\"] = description_vector\n",
    "  product[\"imgVector\"] = img_vector\n",
    "  del product['reviews']\n",
    "  embedding_products.append(product)"
   ]
  },
  {
   "cell_type": "code",
   "execution_count": 5,
   "metadata": {},
   "outputs": [],
   "source": [
    "data_copy = embedding_products.copy()\n",
    "\n",
    "with open('./embedded.json', 'w+') as f:\n",
    "  datas = f.write(json.dumps(data_copy))"
   ]
  }
 ],
 "metadata": {
  "kernelspec": {
   "display_name": "Python 3",
   "language": "python",
   "name": "python3"
  },
  "language_info": {
   "codemirror_mode": {
    "name": "ipython",
    "version": 3
   },
   "file_extension": ".py",
   "mimetype": "text/x-python",
   "name": "python",
   "nbconvert_exporter": "python",
   "pygments_lexer": "ipython3",
   "version": "3.12.7"
  }
 },
 "nbformat": 4,
 "nbformat_minor": 2
}
